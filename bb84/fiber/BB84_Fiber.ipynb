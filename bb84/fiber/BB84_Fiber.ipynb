{
  "nbformat": 4,
  "nbformat_minor": 0,
  "metadata": {
    "colab": {
      "provenance": []
    },
    "kernelspec": {
      "name": "python3",
      "display_name": "Python 3"
    },
    "language_info": {
      "name": "python"
    }
  },
  "cells": [
    {
      "cell_type": "code",
      "source": [
        "!pip install --extra-index-url https://pypi.netsquid.org netsquid"
      ],
      "metadata": {
        "colab": {
          "base_uri": "https://localhost:8080/"
        },
        "id": "xm14HllWL6Qj",
        "outputId": "189e0250-42c6-4028-8b6e-a7c9e47f1803",
        "collapsed": true
      },
      "execution_count": null,
      "outputs": [
        {
          "output_type": "stream",
          "name": "stdout",
          "text": [
            "Looking in indexes: https://pypi.org/simple, https://pypi.netsquid.org\n",
            "Requirement already satisfied: netsquid in /usr/local/lib/python3.11/dist-packages (1.1.8)\n",
            "Requirement already satisfied: pydynaa>=1.0.2 in /usr/local/lib/python3.11/dist-packages (from netsquid) (1.0.2)\n",
            "Requirement already satisfied: numpy>=1.16 in /usr/local/lib/python3.11/dist-packages (from netsquid) (1.26.4)\n",
            "Requirement already satisfied: scipy>=1.8 in /usr/local/lib/python3.11/dist-packages (from netsquid) (1.13.1)\n",
            "Requirement already satisfied: pandas>=0.25 in /usr/local/lib/python3.11/dist-packages (from netsquid) (2.2.2)\n",
            "Requirement already satisfied: python-dateutil>=2.8.2 in /usr/local/lib/python3.11/dist-packages (from pandas>=0.25->netsquid) (2.8.2)\n",
            "Requirement already satisfied: pytz>=2020.1 in /usr/local/lib/python3.11/dist-packages (from pandas>=0.25->netsquid) (2025.1)\n",
            "Requirement already satisfied: tzdata>=2022.7 in /usr/local/lib/python3.11/dist-packages (from pandas>=0.25->netsquid) (2025.1)\n",
            "Requirement already satisfied: cysignals in /usr/local/lib/python3.11/dist-packages (from pydynaa>=1.0.2->netsquid) (1.12.3)\n",
            "Requirement already satisfied: six>=1.5 in /usr/local/lib/python3.11/dist-packages (from python-dateutil>=2.8.2->pandas>=0.25->netsquid) (1.17.0)\n"
          ]
        }
      ]
    },
    {
      "cell_type": "code",
      "source": [
        "import netsquid as ns\n",
        "import netsquid.components.instructions as instr\n",
        "from netsquid.components import QuantumChannel, ClassicalChannel\n",
        "from netsquid.protocols import NodeProtocol\n",
        "from netsquid.components.qprocessor import QuantumProcessor\n",
        "from netsquid.protocols import Protocol\n",
        "from netsquid.nodes.network import Network\n",
        "from netsquid.components.qprocessor import PhysicalInstruction\n",
        "from scipy.stats import bernoulli\n",
        "import numpy as np\n"
      ],
      "metadata": {
        "id": "RipVnc3jI6dC"
      },
      "execution_count": null,
      "outputs": []
    },
    {
      "cell_type": "code",
      "source": [
        "#free space\n",
        "from scipy.linalg import expm\n",
        "from scipy.special import i0, i1\n",
        "from netsquid.components.models.qerrormodels import QuantumErrorModel\n",
        "from netsquid.qubits import qubitapi as qapi, QFormalism\n",
        "from netsquid.qubits import operators as ops\n",
        "from netsquid.qubits.operators import Operator, Z, I\n",
        "import netsquid.util.simtools as simtools\n",
        "from netsquid.util.simlog import warn_deprecated\n",
        "from numpy import random\n",
        "from numpy.random import weibull\n",
        "from itertools import combinations"
      ],
      "metadata": {
        "id": "5_SE2FcKjGQC"
      },
      "execution_count": null,
      "outputs": []
    },
    {
      "cell_type": "code",
      "source": [
        "from matplotlib import pyplot as plt"
      ],
      "metadata": {
        "id": "hHwGlEkSa0Fm"
      },
      "execution_count": null,
      "outputs": []
    },
    {
      "cell_type": "code",
      "source": [
        "node_distance = 4e-3\n",
        "depolarization_rate = 1e7\n",
        "dephasing_rate = 0.2"
      ],
      "metadata": {
        "id": "09-GJwRPI6fJ"
      },
      "execution_count": null,
      "outputs": []
    },
    {
      "cell_type": "markdown",
      "source": [
        "## **Test Free-Space Model**"
      ],
      "metadata": {
        "id": "fpfXwBpxhwlJ"
      }
    },
    {
      "cell_type": "code",
      "source": [
        "__all__ = [\n",
        "    'FreeSpaceLossModel',\n",
        "    'FixedSatelliteLossModel'\n",
        "]\n",
        "\n",
        "class FreeSpaceLossModel(QuantumErrorModel):\n",
        "    \"\"\"Model for photon loss on a free space channel\n",
        "\n",
        "    Uses beam-wandering PDTC from [Vasylyev et al., PRL 108, 220501 (2012)] to\n",
        "    sample the loss probability of the photon.\n",
        "\n",
        "    Parameters\n",
        "    ----------\n",
        "    W0 : float\n",
        "        Waist of the beam at the transmitter [m].\n",
        "    rx_aperture : float\n",
        "        Radius of the receiving telescope [m].\n",
        "    Cn2 : float\n",
        "        Index of refraction structure constant [m**(-2/3)].\n",
        "    wavelength : float\n",
        "        Wavelength of the radiation [m].\n",
        "    Tatm : float\n",
        "        Atmospheric transmittance (square of the transmission coefficient).\n",
        "    sigmaPoint :\n",
        "        Pointing error, standard deviation [rad].\n",
        "    rng : :obj:`~numpy.random.RandomState` or None, optional\n",
        "        Random number generator to use. If ``None`` then\n",
        "        :obj:`~netsquid.util.simtools.get_random_state` is used.\n",
        "    \"\"\"\n",
        "    def __init__(self, W0, rx_aperture, Cn2, wavelength, Tatm=1, sigmaPoint=0., rng=None):\n",
        "        super().__init__()\n",
        "        self.rng = rng if rng else simtools.get_random_state()\n",
        "        self.W0 = W0\n",
        "        self.rx_aperture = rx_aperture\n",
        "        self.Cn2 = Cn2\n",
        "        self.wavelength = wavelength\n",
        "        self.sigmaPoint = sigmaPoint\n",
        "        self.Tatm = Tatm\n",
        "        self.required_properties = ['length']\n",
        "\n",
        "    @property\n",
        "    def rng(self):\n",
        "        \"\"\" :obj:`~numpy.random.RandomState`: Random number generator.\"\"\"\n",
        "        return self.properties['rng']\n",
        "\n",
        "    @rng.setter\n",
        "    def rng(self, value):\n",
        "        if not isinstance(value, np.random.RandomState):\n",
        "            raise TypeError(\"{} is not a valid numpy RandomState\".format(value))\n",
        "        self.properties['rng'] = value\n",
        "\n",
        "    @property\n",
        "    def sigmaPoint(self):\n",
        "        \"\"\" :float: pointing error at the transmitter [m].\"\"\"\n",
        "        return self.properties['sigmaPoint']\n",
        "\n",
        "    @sigmaPoint.setter\n",
        "    def sigmaPoint(self, value):\n",
        "        if value < 0:\n",
        "            raise ValueError\n",
        "        self.properties['sigmaPoint'] = value\n",
        "\n",
        "\n",
        "    @property\n",
        "    def Tatm(self):\n",
        "        \"\"\" :float: atmosphere transmittance. \"\"\"\n",
        "        return self.properties['Tatm']\n",
        "\n",
        "    @Tatm.setter\n",
        "    def Tatm(self, value):\n",
        "        if (value < 0) or (value > 1):\n",
        "            raise ValueError\n",
        "        self.properties['Tatm'] = value\n",
        "\n",
        "    @property\n",
        "    def W0(self):\n",
        "        \"\"\"float: beam waist at the transmitter [m].\"\"\"\n",
        "        return self.properties['W0']\n",
        "\n",
        "    @W0.setter\n",
        "    def W0(self, value):\n",
        "        if value < 0:\n",
        "            raise ValueError\n",
        "        self.properties['W0'] = value\n",
        "\n",
        "    @property\n",
        "    def rx_aperture(self):\n",
        "        \"\"\"float: radius of the receiving telescope [m].\"\"\"\n",
        "        return self.properties['rx_aperture']\n",
        "\n",
        "    @rx_aperture.setter\n",
        "    def rx_aperture(self, value):\n",
        "        if value < 0:\n",
        "            raise ValueError\n",
        "        self.properties['rx_aperture'] = value\n",
        "\n",
        "    @property\n",
        "    def Cn2(self):\n",
        "        \"\"\"float: index of refraction structure constant [m**(-2/3)].\"\"\"\n",
        "        return self.properties['Cn2']\n",
        "\n",
        "    @Cn2.setter\n",
        "    def Cn2(self, value):\n",
        "        if value < 0:\n",
        "            raise ValueError\n",
        "        self.properties['Cn2'] = value\n",
        "\n",
        "    @property\n",
        "    def wavelength(self):\n",
        "        \"\"\"float: wavelength of the radiation [m].\"\"\"\n",
        "        return self.properties['wavelength']\n",
        "\n",
        "    @wavelength.setter\n",
        "    def wavelength(self, value):\n",
        "        if value < 0:\n",
        "            raise ValueError\n",
        "        self.properties['wavelength'] = value\n",
        "\n",
        "    def _compute_weibull_loss_model_parameters(self, length):\n",
        "        \"\"\" Compute the parameters of the Weibull model\n",
        "\n",
        "        This function calculates the parameters of the Weibull distribution\n",
        "        lambda and R, described in equations (6) and (7) of [Vasylyev et al.,\n",
        "        PRL 108, 220501 (2012)], and the maximal transmission T0, described in\n",
        "        equation (5) of the same reference.\n",
        "\n",
        "        It then converts these parameters to the parameters a and scaleL\n",
        "        required by numpy to sample the Weibull distribution.\n",
        "\n",
        "        Parameters\n",
        "        ----------\n",
        "        length: float\n",
        "            Length of the channel.\n",
        "\n",
        "        Returns\n",
        "        -------\n",
        "        tuple (float, float, float)\n",
        "            The elements of the tuple are properties of the\n",
        "            Weibull distribution. From left to right:\n",
        "            - the 'shape' parameter\n",
        "            - the 'scale' parameter\n",
        "            - 'T0'\n",
        "        \"\"\"\n",
        "\n",
        "        z = length*1e3\n",
        "        W = self.W0*np.sqrt(1 + (z*self.wavelength/(np.pi*self.W0**2))**2)\n",
        "        X = (self.rx_aperture/W)**2\n",
        "        T0 = np.sqrt(1 - np.exp(-2*X))\n",
        "        sigmaTurb = np.sqrt(1.919 * self.Cn2 * z**3 * (2*self.W0)**(-1./3.))\n",
        "        sigma = np.sqrt( (self.sigmaPoint*z)**2 + sigmaTurb**2 )\n",
        "        l = 8 * X * np.exp(-4*X) * i1(4*X) / (1 - np.exp(-4*X)*i0(4*X)) / np.log( 2*T0**2/(1-np.exp(-4*X)*i0(4*X)))\n",
        "        R = self.rx_aperture * np.log( 2*T0**2/(1-np.exp(-4*X)*i0(4*X)) )**(-1./l)\n",
        "\n",
        "        # define the parameters of the Weibull distribution\n",
        "        a = 2/l\n",
        "        scaleL = (2*(sigma/R)**2)**(l/2)\n",
        "\n",
        "        return (a, scaleL, T0)\n",
        "\n",
        "    def _sample_loss_probability(self, length):\n",
        "        \"\"\" Sample the loss probability distribution\n",
        "\n",
        "        This function samples the Weibull distribution to get the value of the\n",
        "        channel transmittance, using the parameters calculated in the\n",
        "        _compute_weibull_loss_model_parameter method.\n",
        "\n",
        "        It uses the numpy.weibull method to implement the sampling of the\n",
        "        probability distribution described in equation (9) of [Vasylyev et al.,\n",
        "        PRL 108, 220501 (2012)].\n",
        "\n",
        "        Parameters\n",
        "        ----------\n",
        "        length: float\n",
        "            Length of the channel [km].\n",
        "\n",
        "        Returns\n",
        "        -------\n",
        "        float\n",
        "        \"\"\"\n",
        "        a, scaleL, T0 = self._compute_weibull_loss_model_parameters(length=length)\n",
        "\n",
        "        # extract the value of the transmission coefficient\n",
        "        x = weibull(a, 1)\n",
        "        scaleX = scaleL * x\n",
        "        T = T0*np.exp(-scaleX/2)\n",
        "        # calculate the probability of losing the qubit\n",
        "        prob_loss = 1 - self.Tatm * T**2\n",
        "        return prob_loss\n",
        "\n",
        "    def error_operation(self, qubits, delta_time=0, **kwargs):\n",
        "        \"\"\"Error operation to apply to qubits.\n",
        "\n",
        "        Parameters\n",
        "        ----------\n",
        "        qubits : tuple of :obj:`~netsquid.qubits.qubit.Qubit`\n",
        "            Qubits to apply noise to.\n",
        "        delta_time : float, optional\n",
        "            Time qubits have spent on a component [ns].\n",
        "\n",
        "        \"\"\"\n",
        "        if 'channel' in kwargs:\n",
        "            warn_deprecated(\"channel parameter is deprecated. \"\n",
        "                            \"Pass length parameter directly instead.\",\n",
        "                            key=\"FreeSpaceLossModel.compute_model.channel\")\n",
        "            kwargs['length'] = kwargs['channel'].properties[\"length\"]\n",
        "            del kwargs['channel']\n",
        "\n",
        "\n",
        "        for idx, qubit in enumerate(qubits):\n",
        "            if qubit is None:\n",
        "                continue\n",
        "            prob_loss = self._sample_loss_probability(length=kwargs['length'])\n",
        "            self.lose_qubit(qubits, idx, prob_loss, rng=self.properties['rng'])\n",
        "\n",
        "\n",
        "class FixedSatelliteLossModel(FreeSpaceLossModel):\n",
        "    \"\"\"Model for photon loss on a satellite-to-ground static channel\n",
        "\n",
        "    Uses beam-wandering PDTC from [Vasylyev et al., PRL 108, 220501 (2012)] to\n",
        "    sample the loss probability of the photon.\n",
        "\n",
        "    Parameters\n",
        "    ----------\n",
        "    txDiv : float\n",
        "        Divergence of the beam sent from the satellite [rad].\n",
        "    sigmaPoint :\n",
        "        Pointing error of the satellite, standard deviation [rad].\n",
        "    rx_aperture : float\n",
        "        Radius of the receiving telescope [m].\n",
        "    Cn2 : float\n",
        "        Index of refraction structure constant [m**(-2/3)].\n",
        "    wavelength : float\n",
        "        Wavelength of the radiation [m].\n",
        "    Tatm : float\n",
        "        Atmospheric transmittance (square of the transmission coefficient).\n",
        "    rng : :obj:`~numpy.random.RandomState` or None, optional\n",
        "        Random number generator to use. If ``None`` then\n",
        "        :obj:`~netsquid.util.simtools.get_random_state` is used.\n",
        "    \"\"\"\n",
        "    def __init__(self, txDiv, sigmaPoint, rx_aperture, Cn2, wavelength, Tatm=1, rng=None):\n",
        "        super().__init__(wavelength/(np.pi*txDiv),rx_aperture,Cn2,wavelength,Tatm,sigmaPoint,rng)\n",
        "        self.txDiv = txDiv\n",
        "        self.required_properties = ['length']\n",
        "\n",
        "    @property\n",
        "    def txDiv(self):\n",
        "        \"\"\"float: divergence of the beam at the transmitter (satellite) [m].\"\"\"\n",
        "        return self.properties['txDiv']\n",
        "\n",
        "    @txDiv.setter\n",
        "    def txDiv(self, value):\n",
        "        if value < 0:\n",
        "            raise ValueError\n",
        "        self.properties['txDiv'] = value\n",
        "\n",
        "    def _compute_weibull_loss_model_parameters(self, length):\n",
        "        \"\"\"Compute the parameters of the Weibull model\n",
        "\n",
        "        This function calculates the parameters of the Weibull distribution\n",
        "        lambda and R, described in equations (6) and (7) of [Vasylyev et al.,\n",
        "        PRL 108, 220501 (2012)], and the maximal transmission T0, described in\n",
        "        equation (5) of the same reference.\n",
        "\n",
        "        It then converts these parameters to the parameters a and scaleL\n",
        "        required by numpy to sample the Weibull distribution.\n",
        "\n",
        "        Parameters\n",
        "        ----------\n",
        "        length: float\n",
        "            Length of the channel.\n",
        "\n",
        "        Returns\n",
        "        -------\n",
        "        tuple (float, float, float)\n",
        "            The elements of the tuple are properties of the\n",
        "            Weibull distribution. From left to right:\n",
        "            - the 'shape' parameter\n",
        "            - the 'scale' parameter\n",
        "            - 'T0'\n",
        "        \"\"\"\n",
        "\n",
        "        # this function cannot be used for range values lower than 10 km\n",
        "        if length <= 10:\n",
        "            raise ValueError\n",
        "\n",
        "        z = length*1e3\n",
        "        W = self.txDiv * z\n",
        "        X = (self.rx_aperture/W)**2\n",
        "        T0 = np.sqrt(1 - np.exp(-2*X))\n",
        "        sigmaTurb = np.sqrt(1.919 * self.Cn2 * 10e3**3 * (2*self.txDiv*(z-10e3))**(-1./3.))\n",
        "        sigma = np.sqrt( (self.sigmaPoint*z)**2 + sigmaTurb**2 )\n",
        "        l = 8 * X * np.exp(-4*X) * i1(4*X) / (1 - np.exp(-4*X)*i0(4*X)) / np.log( 2*T0**2/(1-np.exp(-4*X)*i0(4*X)))\n",
        "        R = self.rx_aperture * np.log( 2*T0**2/(1-np.exp(-4*X)*i0(4*X)) )**(-1./l)\n",
        "\n",
        "        # define the parameters of the Weibull distribution\n",
        "        a = 2/l\n",
        "        scaleL = (2*(sigma/R)**2)**(l/2)\n",
        "\n",
        "        return (a, scaleL, T0)"
      ],
      "metadata": {
        "id": "fjuStZ-FI6jc"
      },
      "execution_count": null,
      "outputs": []
    },
    {
      "cell_type": "code",
      "source": [
        "#### Free space channel parameter\n",
        "W0 = 0.1\n",
        "rx_aperture_freespace = 1\n",
        "tatm = 1\n",
        "Cn2_freespace = 1e-15 #atmosferic turbulence"
      ],
      "metadata": {
        "id": "5QY81NAGI6l_"
      },
      "execution_count": null,
      "outputs": []
    },
    {
      "cell_type": "code",
      "source": [
        "# Satllite to ground channel\n",
        "distance_sat = 450\n",
        "txDiv = 10e-6 #beam divergence\n",
        "rx_aperture_sat = 1 #aperture of the receiving telescope\n",
        "Cn2_sat = 1e-15\n",
        "#pointing error\n",
        "sigmaPoint = 0.5e-6"
      ],
      "metadata": {
        "id": "NMokNWiYjJS-"
      },
      "execution_count": null,
      "outputs": []
    },
    {
      "cell_type": "code",
      "source": [
        "#Light parameter\n",
        "wavelength = 1550e-9 #telecom wavelength"
      ],
      "metadata": {
        "id": "q5VAMicxjJWR"
      },
      "execution_count": null,
      "outputs": []
    },
    {
      "cell_type": "code",
      "source": [
        "#Node parameters\n",
        "init_time = 100 #time to create a qubit in ns"
      ],
      "metadata": {
        "id": "C6ITJsOejJYw"
      },
      "execution_count": null,
      "outputs": []
    },
    {
      "cell_type": "code",
      "source": [
        "Key = []"
      ],
      "metadata": {
        "id": "0ikNqucOomUt"
      },
      "execution_count": null,
      "outputs": []
    },
    {
      "cell_type": "code",
      "source": [
        "simDuration = 10000       # simulation duration [ns]\n",
        "init_time = 100           # time between qubit transmissions [ns]\n",
        "num_qubits = int(simDuration / init_time)\n",
        "\n",
        "# Dummy physical parameters (set these to match your system)\n",
        "txDiv = 1.0\n",
        "sigmaPoint = 1.0\n",
        "rx_aperture_sat = 1.0\n",
        "Cn2_sat = 1e-15\n",
        "wavelength = 1550         # in nm\n",
        "tatm = 1.0"
      ],
      "metadata": {
        "id": "3leJO1CYY7qy"
      },
      "execution_count": null,
      "outputs": []
    },
    {
      "cell_type": "code",
      "source": [
        "physical_instructions = [\n",
        "    PhysicalInstruction(instr.INSTR_INIT, duration=init_time),\n",
        "    PhysicalInstruction(instr.INSTR_H, duration=1, parallel=True, topology=[0]),\n",
        "    PhysicalInstruction(instr.INSTR_X, duration=1, parallel=True, topology=[0]),\n",
        "    PhysicalInstruction(instr.INSTR_Z, duration=1, parallel=True, topology=[0]),\n",
        "    PhysicalInstruction(instr.INSTR_S, duration=1, parallel=True, topology=[0]),\n",
        "    PhysicalInstruction(instr.INSTR_I, duration=1, parallel=True, topology=[0]),\n",
        "    PhysicalInstruction(instr.INSTR_CNOT, duration=4, parallel=True),\n",
        "    PhysicalInstruction(instr.INSTR_MEASURE, duration=1, parallel=True,topology=[0]),\n",
        "    PhysicalInstruction(instr.INSTR_MEASURE_BELL, duration = 1, parallel=True),\n",
        "    PhysicalInstruction(instr.INSTR_SWAP, duration = 1, parallel=True)\n",
        "]"
      ],
      "metadata": {
        "id": "jix6Wj6hI6pe"
      },
      "execution_count": null,
      "outputs": []
    },
    {
      "cell_type": "code",
      "source": [
        "#protocol\n",
        "class SendProtocol(NodeProtocol):\n",
        "  #Protocol performed by a node to send a BB84 qubit\n",
        "  def __init__(self, othernode, node):\n",
        "    super().__init__(node=node)\n",
        "    self._othernode = othernode\n",
        "  def run(self):\n",
        "    if self.node.name[0:9] == \"Satellite\":\n",
        "      mem = self.node.subcomponents[\"SatelliteMemory\"]\n",
        "    else:\n",
        "      mem = self.node.subcomponents[\"Station\"]\n",
        "    while True:\n",
        "      mem.reset()\n",
        "      mem.execute_instruction(instr.INSTR_INIT, [0])\n",
        "\n",
        "      yield self.await_program(mem,await_done=True,await_fail=True)\n",
        "      base = bernoulli.rvs(0.5)\n",
        "      if base < 0.5:\n",
        "        mem.execute_instruction(instr.INSTR_H, [0])\n",
        "        base = \"plusmoins\"\n",
        "      else:\n",
        "        mem.execute_instruction(instr.INSTR_I, [0])\n",
        "        base = \"zeroun\"\n",
        "      yield self.await_program(mem,await_done=True,await_fail=True)\n",
        "\n",
        "      bit = bernoulli.rvs(0.5)\n",
        "      if bit < 0.5:\n",
        "        mem.execute_instruction(instr.INSTR_I, [0], physical=False)\n",
        "      else:\n",
        "        if base == \"zeroun\":\n",
        "          mem.execute_instruction(instr.INSTR_X, [0], physical=False)\n",
        "        elif base == \"plusmoins\":\n",
        "          mem.execute_instruction(instr.INSTR_Z, [0], physical=False)\n",
        "      qubit, = mem.pop([0])"
      ],
      "metadata": {
        "id": "mlV9UzjjI6r9"
      },
      "execution_count": null,
      "outputs": []
    },
    {
      "cell_type": "code",
      "source": [
        "class ReceiveProtocol(NodeProtocol):\n",
        "  # Protocol performed by a node to receive a state a measure it\n",
        "  def __init__(self, othernode, port, node):\n",
        "    super().__init__(node=node)\n",
        "    self._othernode = othernode\n",
        "    self._port = port\n",
        "  def run(self):\n",
        "    if self.node.name[0:9]== 'Satellite':\n",
        "      mem = self.node.subcomponents[\"SatelliteMemory\"]\n",
        "    else:\n",
        "      mem = self.node.subcomponents[\"StationMemory\"]\n",
        "      while True:\n",
        "        yield self.await_port_input(self._port)\n",
        "        base = bernoulli.rvs(0.5)\n",
        "        if base < 0.5:\n",
        "          mem.execute_instruction(instr.INSTR_H, [0], physical = False)\n",
        "          base = \"plusmoins\"\n",
        "        else:\n",
        "          mem.execute_instruction(instr.INSTR_I, [0],physical = False)\n",
        "          base = \"zeroun\"\n",
        "        m,_,_ = mem.execute_instruction(instr.INSTR_MEASURE,[0],output_key=\"M1\")\n",
        "        yield self.await_program(mem,await_done=True,await_fail=True)\n",
        "        Key.append(m['M1'][0])\n",
        "        mem.reset()"
      ],
      "metadata": {
        "id": "RLqpsBJgI6uR"
      },
      "execution_count": null,
      "outputs": []
    },
    {
      "cell_type": "code",
      "source": [
        "!pip install skyfield"
      ],
      "metadata": {
        "colab": {
          "base_uri": "https://localhost:8080/"
        },
        "id": "_9ysVMhpywY1",
        "outputId": "7aca16fa-561b-4df4-edf0-f3bdf5652777"
      },
      "execution_count": null,
      "outputs": [
        {
          "output_type": "stream",
          "name": "stdout",
          "text": [
            "Requirement already satisfied: skyfield in /usr/local/lib/python3.11/dist-packages (1.51)\n",
            "Requirement already satisfied: certifi>=2017.4.17 in /usr/local/lib/python3.11/dist-packages (from skyfield) (2025.1.31)\n",
            "Requirement already satisfied: jplephem>=2.13 in /usr/local/lib/python3.11/dist-packages (from skyfield) (2.22)\n",
            "Requirement already satisfied: numpy in /usr/local/lib/python3.11/dist-packages (from skyfield) (1.26.4)\n",
            "Requirement already satisfied: sgp4>=2.2 in /usr/local/lib/python3.11/dist-packages (from skyfield) (2.24)\n"
          ]
        }
      ]
    },
    {
      "cell_type": "code",
      "source": [
        "import skyfield.api\n",
        "from skyfield.api import load, wgs84, Loader\n",
        "from skyfield.api import Topos, utc\n",
        "from skyfield.sgp4lib import EarthSatellite\n",
        "from skyfield.constants import AU_KM, DAY_S\n",
        "from skyfield.functions import length_of\n",
        "from skyfield.functions import length_of\n",
        "from skyfield.positionlib import ICRF\n",
        "from datetime import datetime, timedelta"
      ],
      "metadata": {
        "id": "wkbXSXvNyvy8"
      },
      "execution_count": null,
      "outputs": []
    },
    {
      "cell_type": "code",
      "execution_count": null,
      "metadata": {
        "id": "xjunv7P7BQtI"
      },
      "outputs": [],
      "source": [
        "class DownChannel:\n",
        "  def __init__(self, tle, lat, lon, alt, wl=None, atmModel=None):\n",
        "    self.latitude = lat\n",
        "    self.longitude = lon\n",
        "    self.altitude = alt\n",
        "    self.tle = tle\n",
        "\n",
        "    #self.wavelength = float(wl)\n",
        "\n",
        "  def calculateParameters(self, start, end, step):\n",
        "\n",
        "    ts = load.timescale(builtin=True)\n",
        "    timelist = []\n",
        "    num_tries = 10\n",
        "    name, L1, L2 = self.tle.splitlines()\n",
        "    sat = EarthSatellite(L1, L2)\n",
        "\n",
        "    while start < end:\n",
        "      timelist.append(start)\n",
        "      start += step\n",
        "\n",
        "    distance = np.zeros( (len(timelist),) )\n",
        "    elevation = np.zeros( (len(timelist),) )\n",
        "\n",
        "    for i in range(len(timelist)):\n",
        "\n",
        "      t = ts.utc(timelist[i].year, timelist[i].month,\n",
        "      timelist[i].day,timelist[i].hour,\n",
        "      timelist[i].minute,timelist[i].second)\n",
        "\n",
        "      ground_station = wgs84.latlon(self.latitude, self.longitude, self.altitude)\n",
        "      diff = sat - ground_station\n",
        "\n",
        "      alt, az, dist = diff.at(t).altaz()\n",
        "\n",
        "      elevation[i] = alt.degrees\n",
        "      distance[i] = dist.km\n",
        "\n",
        "    return distance, elevation"
      ]
    },
    {
      "cell_type": "code",
      "execution_count": null,
      "metadata": {
        "id": "bty3bbP4BEkw"
      },
      "outputs": [],
      "source": [
        "tle_AMAZONIA_1 = '''\n",
        "1 47699U 21015A   24331.66896108  .00000823  00000+0  27046-3 0  9995\n",
        "2 47699  98.3819  44.8584 0001784 110.4232 249.7148 14.40820713196923\n",
        "'''\n",
        "tle_STARLINK_2071 = \"\"\"\n",
        "1 48656U 21044U   24339.55275590  .00026086  00000+0  17641-2 0  9991\n",
        "2 48656  53.0534  27.2526 0001973  90.0742 270.0473 15.06391245194358\n",
        "\"\"\"\n",
        "tle_IRIDIUM_122 = \"\"\"\n",
        "1 42957U 17061C   25007.49702594  .00000117  00000+0  34556-4 0  9991\n",
        "2 42957  86.3957 244.8288 0001777  86.7983 273.3416 14.34214161379435\n",
        "\"\"\"\n",
        "tle_STARLINK_1008 = '''\n",
        "1 44714U 19074B   25012.00402021  .00004094  00000+0  29358-3 0  9996\n",
        "2 44714  53.0539 279.6404 0001242  80.1545 279.9584 15.06395110285360\n",
        "'''"
      ]
    },
    {
      "cell_type": "code",
      "execution_count": null,
      "metadata": {
        "id": "uJuLun8ABE_q"
      },
      "outputs": [],
      "source": [
        "start_iridium = datetime(2024, 2, 16, 6, 40, 0, tzinfo=utc)\n",
        "end_iridium = datetime(2024, 2, 16, 7, 20, 0, tzinfo=utc)\n",
        "\n",
        "start_starlink = datetime(2023, 2, 12, 9, 0, 0, tzinfo=utc)\n",
        "end_starlink = datetime(2023, 2, 12, 10, 0, 0, tzinfo=utc)\n",
        "\n",
        "start_amazon = datetime(2024, 10, 22, 13, 0, 0, tzinfo=utc)\n",
        "end_amazon = datetime(2024, 10, 22, 14, 20, 0, tzinfo=utc)\n",
        "\n",
        "start_starlink_1008 = datetime(2024, 10, 25, 7, 30, 0, tzinfo=utc)\n",
        "end_starlink_1008 = datetime(2024, 10, 25, 8, 30, 0, tzinfo=utc)\n",
        "\n",
        "Step = timedelta(seconds = 1.)"
      ]
    },
    {
      "cell_type": "code",
      "execution_count": null,
      "metadata": {
        "id": "pBVPksacBIkY"
      },
      "outputs": [],
      "source": [
        "lat_unicamp = -22.8542\n",
        "lon_unicamp = -47.0220\n",
        "alt_unicamp = 0."
      ]
    },
    {
      "cell_type": "code",
      "execution_count": null,
      "metadata": {
        "id": "N8AQAurGMdiW"
      },
      "outputs": [],
      "source": [
        "down_channel = DownChannel(tle_IRIDIUM_122, lat_unicamp, lon_unicamp, alt_unicamp)\n",
        "distance, elevation = down_channel.calculateParameters(start_iridium, end_iridium, Step)\n",
        "results = np.zeros((100,))"
      ]
    },
    {
      "cell_type": "markdown",
      "source": [
        "## Simulate QKD trough `FixedSatelliteLoss` Model and Free-Space Channel"
      ],
      "metadata": {
        "id": "w97ERDTtGeB3"
      }
    },
    {
      "cell_type": "code",
      "source": [],
      "metadata": {
        "id": "5Kc6ZtMrFjU6"
      },
      "execution_count": null,
      "outputs": []
    },
    {
      "cell_type": "code",
      "source": [],
      "metadata": {
        "id": "XOPFrLwplYne"
      },
      "execution_count": null,
      "outputs": []
    },
    {
      "cell_type": "code",
      "source": [],
      "metadata": {
        "id": "34vGCg7ElYt_"
      },
      "execution_count": null,
      "outputs": []
    },
    {
      "cell_type": "code",
      "source": [],
      "metadata": {
        "id": "sv-Zp6ndlYyz"
      },
      "execution_count": null,
      "outputs": []
    },
    {
      "cell_type": "code",
      "source": [],
      "metadata": {
        "id": "0Rd1tSW8FjXf"
      },
      "execution_count": null,
      "outputs": []
    },
    {
      "cell_type": "code",
      "source": [],
      "metadata": {
        "id": "qQOX0Qc3FjZo"
      },
      "execution_count": null,
      "outputs": []
    }
  ]
}